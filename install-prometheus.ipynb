{
 "cells": [
  {
   "cell_type": "markdown",
   "metadata": {},
   "source": [
    "# Installing Prometheus\n",
    "\n",
    "We will download the current stable version locally and just start the binary,  "
   ]
  },
  {
   "cell_type": "code",
   "execution_count": null,
   "metadata": {},
   "outputs": [],
   "source": [
    "WORKDIR=\"/tmp/lfs-prometheus\"\n",
    "\n",
    "PROM_VERSION=\"2.49.1\"\n",
    "DEMO_VERSION=\"0.11.1\"\n",
    "NODEEXP_VERSION=\"1.7.0\"\n",
    "CADVISOR_VERSION=\"0.36.0\""
   ]
  },
  {
   "cell_type": "code",
   "execution_count": null,
   "metadata": {},
   "outputs": [],
   "source": [
    "%%bash -s {WORKDIR}\n",
    "\n",
    "{\n",
    "    echo \"Cloning the repo\"\n",
    "    WORKDIR=$1\n",
    "    if [ ! -e ${WORKDIR}/.git ]; then \n",
    "        git clone https://github.com/ennc0d3-learn/lfs-prometheus ${WORKDIR} \n",
    "    else \n",
    "        cd ${WORKDIR} && git pull --rebase\n",
    "        ls -l ${WORKDIR}\n",
    "    fi\n",
    "    echo \"Ready to go!\"\n",
    "}"
   ]
  },
  {
   "cell_type": "code",
   "execution_count": null,
   "metadata": {},
   "outputs": [],
   "source": [
    "%%bash -s  {WORKDIR} {PROM_VERSION}\n",
    "(\n",
    "    WORKDIR=$1\n",
    "    PROM_VERSION=$2\n",
    "    cd ${WORKDIR}\n",
    "    wget -q https://github.com/prometheus/prometheus/releases/download/v${PROM_VERSION}/prometheus-${PROM_VERSION}.linux-amd64.tar.gz\n",
    "    tar -zxvf prometheus-${PROM_VERSION}.*.gz\n",
    "    \n",
    ")\n"
   ]
  },
  {
   "cell_type": "code",
   "execution_count": null,
   "metadata": {},
   "outputs": [],
   "source": [
    "%%bash -s {WORKDIR} {PROM_VERSION}\n",
    "(\n",
    "    WORKDIR=$1\n",
    "    PROM_VERSION=$2\n",
    "    prometheus_dir=${WORKDIR}/prometheus-${PROM_VERSION}*\n",
    "    cat > ${prometheus_dir}/prometheus.yml <<-EOD\n",
    "global:\n",
    "    scrape_interval: 5s\n",
    "    evaluation_interval: 5s\n",
    "scrape_configs:\n",
    "    - job_name: 'prometheus'\n",
    "      static_configs:\n",
    "        - targets: ['localhost:9090']\n",
    "EOD\n",
    "echo \"Created the prometheus.yml\"\n",
    "cat ${prometheus_dir}/prometheus.yml\n",
    ")"
   ]
  },
  {
   "cell_type": "code",
   "execution_count": null,
   "metadata": {},
   "outputs": [],
   "source": [
    "%%bash -s {WORKDIR}\n",
    "(\n",
    "    WORKDIR=$1\n",
    "    PROM_VERSION=$2\n",
    "    cd $WORKDIR/prometheus-*/\n",
    "    killall prometheus\n",
    "    ./prometheus &\n",
    "    \n",
    ")"
   ]
  },
  {
   "cell_type": "markdown",
   "metadata": {},
   "source": [
    "Download the prepare the demo service "
   ]
  },
  {
   "cell_type": "code",
   "execution_count": null,
   "metadata": {},
   "outputs": [],
   "source": [
    "%%bash -s {WORKDIR} {DEMO_VERSION}\n",
    "(\n",
    "    WORKDIR=$1\n",
    "    DEMO_VERSION=${2:-0.11.1}\n",
    "    cd $WORKDIR\n",
    "    echo \"Downloading the demo service version ${DEMO_VERSION}\"\n",
    "    wget -q https://github.com/juliusv/prometheus_demo_service/releases/download/${DEMO_VERSION}/prometheus_demo_service-${DEMO_VERSION}.linux-amd64\n",
    "    \n",
    "    chmod +x ./prometheus_demo_service-${DEMO_VERSION}.linux-amd64\n",
    "    mv ./prometheus_demo_service-${DEMO_VERSION}.linux-amd64 ./prometheus_demo_service\n",
    "    \n",
    "    echo \"Starting the demo service instances\"\n",
    "    \n",
    "    killall ./prometheus_demo_service\n",
    "    \n",
    "    ./prometheus_demo_service -listen-address=\":10001\" & > /dev/null\n",
    "    ./prometheus_demo_service -listen-address=\":10002\" & > /dev/null\n",
    "    ./prometheus_demo_service -listen-address=\":10003\" & > /dev/null\n",
    "    \n",
    "    echo \"Demo instances are running\"\n",
    "    \n",
    ")"
   ]
  },
  {
   "cell_type": "code",
   "execution_count": null,
   "metadata": {},
   "outputs": [],
   "source": [
    "%%bash -s {WORKDIR}\n",
    "(\n",
    "    WORKDIR=$1\n",
    "    cat > ${WORKDIR}/prometheus-*/prometheus.yml <<-EOD \n",
    "global:\n",
    "    scrape_interval: 5s\n",
    "    evaluation_interval: 5s\n",
    "scrape_configs:\n",
    "    - job_name: 'prometheus'\n",
    "      static_configs:\n",
    "        - targets: ['localhost:9090']\n",
    "    - job_name: 'demo-service'\n",
    "      static_configs:\n",
    "        - targets:\n",
    "            - localhost:10001\n",
    "            - localhost:10002\n",
    "            - localhost:10003\n",
    "EOD\n",
    "    \n",
    "    # Send signal to reaload\n",
    "    killall -HUP prometheus\n",
    ")\n",
    "\n"
   ]
  },
  {
   "cell_type": "markdown",
   "metadata": {},
   "source": [
    "## Installing node exporter"
   ]
  },
  {
   "cell_type": "code",
   "execution_count": null,
   "metadata": {},
   "outputs": [],
   "source": [
    "%%bash -s {WORKDIR} {NODEEXP_VERSION}\n",
    "{\n",
    "    cleanup() {\n",
    "        trap - INT TERM\n",
    "        echo \"Cleaning up the node_exporter\"\n",
    "        killall node_exporter\n",
    "        exit 1\n",
    "    }\n",
    "    \n",
    "    trap cleanup INT TERM\n",
    "    \n",
    "    WORKDIR=$1\n",
    "    NODEEXP_VERSION=${2:-1.7.0}\n",
    "    startNodeExporter() {\n",
    "        cd $WORKDIR\n",
    "        wget -q https://github.com/prometheus/node_exporter/releases/download/v${NODEEXP_VERSION}/node_exporter-${NODEEXP_VERSION}.linux-amd64.tar.gz -O node_exporter.tgz\n",
    "        tar -zxf node_exporter.tgz\n",
    "        chmod +x ./node_exporter*/node_exporter\n",
    "        killall node_exporter\n",
    "        ./node_exporter*/node_exporter & > /dev/null\n",
    "    }\n",
    "    echo \"Download and start the exporter\"\n",
    "    startNodeExporter\n",
    "}"
   ]
  },
  {
   "cell_type": "markdown",
   "metadata": {},
   "source": [
    "Update the scrape targets to include the node_exporter service running on 9100"
   ]
  },
  {
   "cell_type": "code",
   "execution_count": null,
   "metadata": {},
   "outputs": [],
   "source": [
    "%%bash -s {WORKDIR}\n",
    "(\n",
    "    WORKDIR=$1\n",
    "    cat > ${WORKDIR}/prometheus-*/prometheus.yml <<-EOD \n",
    "global:\n",
    "    scrape_interval: 5s\n",
    "    evaluation_interval: 5s\n",
    "scrape_configs:\n",
    "    - job_name: 'prometheus'\n",
    "      static_configs:\n",
    "        - targets: ['localhost:9090']\n",
    "    - job_name: 'demo-service'\n",
    "      static_configs:\n",
    "        - targets:\n",
    "            - localhost:10001\n",
    "            - localhost:10002\n",
    "            - localhost:10003\n",
    "    - job_name: 'node_exporter'\n",
    "      static_configs:\n",
    "        - targets:\n",
    "            - localhost:9100\n",
    "EOD\n",
    "    \n",
    "    # Send signal to reaload\n",
    "    killall -HUP prometheus\n",
    ")\n"
   ]
  },
  {
   "cell_type": "markdown",
   "metadata": {},
   "source": [
    "Install/Run cAdvisor"
   ]
  },
  {
   "cell_type": "code",
   "execution_count": null,
   "metadata": {},
   "outputs": [],
   "source": [
    "%%bash -s {WORKDIR} {CADVISOR_VERSION}\n",
    "{\n",
    "    WORKDIR=$1\n",
    "    CADVISOR_VERSION=${2:-\"0.36.0\"}\n",
    "    \n",
    "    cleanup() {\n",
    "        trap - INT TERM\n",
    "        echo \"Stopping cAdvisor\"\n",
    "        docker rm -f cadvisor\n",
    "        exit 1\n",
    "    }\n",
    "    \n",
    "    startCadvisor() {\n",
    "        docker rm -f cadvisor\n",
    "        docker run \\\n",
    "        --volume=/:/rootfs:ro \\\n",
    "        --volume=/var/run:/var/run:ro \\\n",
    "        --volume=/sys:/sys:ro \\\n",
    "        --volume=/var/lib/docker/:/var/lib/docker:ro \\\n",
    "        --volume=/dev/disk/:/dev/disk:ro \\\n",
    "        --publish=8080:8080 \\\n",
    "        --detach=true \\\n",
    "        --name=cadvisor \\\n",
    "        --privileged \\\n",
    "        --device=/dev/kmsg \\\n",
    "        gcr.io/cadvisor/cadvisor:v${CADVISOR_VERSION}\n",
    "    }\n",
    "    \n",
    "    trap cleanup INT TERM\n",
    "    startCadvisor\n",
    "}"
   ]
  },
  {
   "cell_type": "code",
   "execution_count": null,
   "metadata": {},
   "outputs": [],
   "source": [
    "%%bash -s {WORKDIR}\n",
    "(\n",
    "    WORKDIR=$1\n",
    "    cat > ${WORKDIR}/prometheus-*/prometheus.yml <<-EOD \n",
    "global:\n",
    "    scrape_interval: 5s\n",
    "    evaluation_interval: 5s\n",
    "scrape_configs:\n",
    "    - job_name: 'prometheus'\n",
    "      static_configs:\n",
    "        - targets: ['localhost:9090']\n",
    "    - job_name: 'demo-service'\n",
    "      static_configs:\n",
    "        - targets:\n",
    "            - localhost:10001\n",
    "            - localhost:10002\n",
    "            - localhost:10003\n",
    "    - job_name: 'node_exporter'\n",
    "      static_configs:\n",
    "        - targets:\n",
    "            - localhost:9100\n",
    "    - job_name: 'cadvisor'\n",
    "      static_configs:\n",
    "        - targets:\n",
    "            - localhost:8080\n",
    "EOD\n",
    "    \n",
    "    # Send signal to reaload\n",
    "    killall -HUP prometheus\n",
    ")\n"
   ]
  },
  {
   "cell_type": "markdown",
   "metadata": {},
   "source": [
    "Node Exporter - Custom \n",
    "\n",
    "In this chapter, we create an simple Node Exporter (CPU metrics collection), the program is written in python [cpu-metrics-exporter.py](./cpu-metrics-exporter/cpu-metric-exporter.py)\n",
    "\n",
    "It uses psutil and get the cpu data and use CounterMetricFamily to transform to prometheus format."
   ]
  },
  {
   "cell_type": "code",
   "execution_count": null,
   "metadata": {},
   "outputs": [],
   "source": [
    "%%bash -s {WORKDIR}\n",
    "{\n",
    "    WORKDIR=$1\n",
    "    cd $WORKDIR\n",
    "    killall cpu-metric-exporter.py\n",
    "    python cpu-metrics-exporter/cpu-metric-exporter.py\n",
    "}\n"
   ]
  },
  {
   "cell_type": "code",
   "execution_count": null,
   "metadata": {},
   "outputs": [],
   "source": [
    "%%bash -s {WORKDIR}\n",
    "(\n",
    "    WORKDIR=$1\n",
    "    cat > ${WORKDIR}/prometheus-*/prometheus.yml <<-EOD \n",
    "global:\n",
    "    scrape_interval: 5s\n",
    "    evaluation_interval: 5s\n",
    "scrape_configs:\n",
    "    - job_name: 'prometheus'\n",
    "      static_configs:\n",
    "        - targets: ['localhost:9090']\n",
    "    - job_name: 'demo-service'\n",
    "      static_configs:\n",
    "        - targets:\n",
    "            - localhost:10001\n",
    "            - localhost:10002\n",
    "            - localhost:10003\n",
    "    - job_name: 'node_exporter'\n",
    "      static_configs:\n",
    "        - targets:\n",
    "            - localhost:9100\n",
    "    - job_name: 'cadvisor'\n",
    "      static_configs:\n",
    "        - targets:\n",
    "            - localhost:8080\n",
    "    - job_name: 'cpu-metrics'\n",
    "      static_configs:\n",
    "        - targets:\n",
    "            - localhost:8100\n",
    "EOD\n",
    "    # Send signal to reaload\n",
    "    killall -HUP prometheus\n",
    ")"
   ]
  }
 ],
 "metadata": {
  "kernelspec": {
   "display_name": "cc-q7EMUs0i",
   "language": "python",
   "name": "python3"
  },
  "language_info": {
   "codemirror_mode": {
    "name": "ipython",
    "version": 3
   },
   "file_extension": ".py",
   "mimetype": "text/x-python",
   "name": "python",
   "nbconvert_exporter": "python",
   "pygments_lexer": "ipython3",
   "version": "3.11.3"
  }
 },
 "nbformat": 4,
 "nbformat_minor": 2
}
