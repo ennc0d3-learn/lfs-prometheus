{
 "cells": [
  {
   "cell_type": "markdown",
   "metadata": {},
   "source": [
    "# Installing Prometheus\n",
    "\n",
    "We will download the current stable version locally and just start the binary,  "
   ]
  },
  {
   "cell_type": "code",
   "execution_count": 4,
   "metadata": {},
   "outputs": [],
   "source": [
    "WORKDIR=\"/tmp/lfs-prometheus\"\n",
    "\n",
    "PROM_VERSION=\"2.49.1\"\n",
    "DEMO_VERSION=\"0.11.1\"\n",
    "NODEEXP_VERSION=\"1.7.0\"\n",
    "CADVISOR_VERSION=\"0.36.0\""
   ]
  },
  {
   "cell_type": "code",
   "execution_count": 22,
   "metadata": {},
   "outputs": [
    {
     "name": "stdout",
     "output_type": "stream",
     "text": [
      "Cloning the repo\n"
     ]
    },
    {
     "name": "stderr",
     "output_type": "stream",
     "text": [
      "Cloning into '/tmp/lfs-prometheus'...\n",
      "warning: You appear to have cloned an empty repository.\n"
     ]
    },
    {
     "name": "stdout",
     "output_type": "stream",
     "text": [
      "Ready to go!\n"
     ]
    }
   ],
   "source": [
    "%%bash -s {WORKDIR}\n",
    "\n",
    "{\n",
    "    echo \"Cloning the repo\"\n",
    "    WORKDIR=$1\n",
    "    if [ ! -e ${WORKDIR}/.git ]; then \n",
    "        git clone https://github.com/ennc0d3-learn/lfs-prometheus ${WORKDIR} \n",
    "    else \n",
    "        cd ${WORKDIR} && git pull --rebase\n",
    "        ls -l ${WORKDIR}\n",
    "    fi\n",
    "    echo \"Ready to go!\"\n",
    "}"
   ]
  },
  {
   "cell_type": "code",
   "execution_count": 23,
   "metadata": {},
   "outputs": [
    {
     "name": "stdout",
     "output_type": "stream",
     "text": [
      "prometheus-2.49.1.linux-amd64/\n",
      "prometheus-2.49.1.linux-amd64/NOTICE\n",
      "prometheus-2.49.1.linux-amd64/LICENSE\n",
      "prometheus-2.49.1.linux-amd64/prometheus\n",
      "prometheus-2.49.1.linux-amd64/consoles/\n",
      "prometheus-2.49.1.linux-amd64/consoles/prometheus-overview.html\n",
      "prometheus-2.49.1.linux-amd64/consoles/node-cpu.html\n",
      "prometheus-2.49.1.linux-amd64/consoles/node.html\n",
      "prometheus-2.49.1.linux-amd64/consoles/prometheus.html\n",
      "prometheus-2.49.1.linux-amd64/consoles/index.html.example\n",
      "prometheus-2.49.1.linux-amd64/consoles/node-overview.html\n",
      "prometheus-2.49.1.linux-amd64/consoles/node-disk.html\n",
      "prometheus-2.49.1.linux-amd64/prometheus.yml\n",
      "prometheus-2.49.1.linux-amd64/promtool\n",
      "prometheus-2.49.1.linux-amd64/console_libraries/\n",
      "prometheus-2.49.1.linux-amd64/console_libraries/menu.lib\n",
      "prometheus-2.49.1.linux-amd64/console_libraries/prom.lib\n"
     ]
    }
   ],
   "source": [
    "%%bash -s  {WORKDIR} {PROM_VERSION}\n",
    "(\n",
    "    WORKDIR=$1\n",
    "    PROM_VERSION=$2\n",
    "    cd ${WORKDIR}\n",
    "    wget -q https://github.com/prometheus/prometheus/releases/download/v${PROM_VERSION}/prometheus-${PROM_VERSION}.linux-amd64.tar.gz\n",
    "    tar -zxvf prometheus-${PROM_VERSION}.*.gz\n",
    "    \n",
    ")\n"
   ]
  },
  {
   "cell_type": "code",
   "execution_count": 24,
   "metadata": {},
   "outputs": [
    {
     "name": "stdout",
     "output_type": "stream",
     "text": [
      "Created the prometheus.yml\n",
      "global:\n",
      "    scrape_interval: 5s\n",
      "    evaluation_interval: 5s\n",
      "scrape_configs:\n",
      "    - job_name: 'prometheus'\n",
      "      static_configs:\n",
      "        - targets: ['localhost:9090']\n"
     ]
    }
   ],
   "source": [
    "%%bash -s {WORKDIR} {PROM_VERSION}\n",
    "(\n",
    "    WORKDIR=$1\n",
    "    PROM_VERSION=$2\n",
    "    prometheus_dir=${WORKDIR}/prometheus-${PROM_VERSION}*\n",
    "    cat > ${prometheus_dir}/prometheus.yml <<-EOD\n",
    "global:\n",
    "    scrape_interval: 5s\n",
    "    evaluation_interval: 5s\n",
    "scrape_configs:\n",
    "    - job_name: 'prometheus'\n",
    "      static_configs:\n",
    "        - targets: ['localhost:9090']\n",
    "EOD\n",
    "echo \"Created the prometheus.yml\"\n",
    "cat ${prometheus_dir}/prometheus.yml\n",
    ")"
   ]
  },
  {
   "cell_type": "code",
   "execution_count": 25,
   "metadata": {},
   "outputs": [
    {
     "name": "stderr",
     "output_type": "stream",
     "text": [
      "prometheus: no process found\n",
      "ts=2024-02-15T10:53:07.998Z caller=main.go:544 level=info msg=\"No time or size retention was set so using the default time retention\" duration=15d\n",
      "ts=2024-02-15T10:53:08.002Z caller=main.go:588 level=info msg=\"Starting Prometheus Server\" mode=server version=\"(version=2.49.1, branch=HEAD, revision=43e14844a33b65e2a396e3944272af8b3a494071)\"\n",
      "ts=2024-02-15T10:53:08.006Z caller=main.go:593 level=info build_context=\"(go=go1.21.6, platform=linux/amd64, user=root@6d5f4c649d25, date=20240115-16:58:43, tags=netgo,builtinassets,stringlabels)\"\n",
      "ts=2024-02-15T10:53:08.010Z caller=main.go:594 level=info host_details=\"(Linux 6.2.0-39-generic #40~22.04.1-Ubuntu SMP PREEMPT_DYNAMIC Thu Nov 16 10:53:04 UTC 2 x86_64 ennc0d3 (none))\"\n",
      "ts=2024-02-15T10:53:08.010Z caller=main.go:595 level=info fd_limits=\"(soft=1048576, hard=1048576)\"\n",
      "ts=2024-02-15T10:53:08.010Z caller=main.go:596 level=info vm_limits=\"(soft=unlimited, hard=unlimited)\"\n",
      "ts=2024-02-15T10:53:08.024Z caller=web.go:565 level=info component=web msg=\"Start listening for connections\" address=0.0.0.0:9090\n",
      "ts=2024-02-15T10:53:08.025Z caller=main.go:1039 level=info msg=\"Starting TSDB ...\"\n",
      "ts=2024-02-15T10:53:08.028Z caller=tls_config.go:274 level=info component=web msg=\"Listening on\" address=[::]:9090\n",
      "ts=2024-02-15T10:53:08.028Z caller=tls_config.go:277 level=info component=web msg=\"TLS is disabled.\" http2=false address=[::]:9090\n",
      "ts=2024-02-15T10:53:08.042Z caller=head.go:606 level=info component=tsdb msg=\"Replaying on-disk memory mappable chunks if any\"\n",
      "ts=2024-02-15T10:53:08.044Z caller=head.go:687 level=info component=tsdb msg=\"On-disk memory mappable chunks replay completed\" duration=91.203µs\n",
      "ts=2024-02-15T10:53:08.044Z caller=head.go:695 level=info component=tsdb msg=\"Replaying WAL, this may take a while\"\n",
      "ts=2024-02-15T10:53:08.046Z caller=head.go:766 level=info component=tsdb msg=\"WAL segment loaded\" segment=0 maxSegment=0\n",
      "ts=2024-02-15T10:53:08.046Z caller=head.go:803 level=info component=tsdb msg=\"WAL replay completed\" checkpoint_replay_duration=399.843µs wal_replay_duration=1.648415ms wbl_replay_duration=587ns total_replay_duration=2.481162ms\n",
      "ts=2024-02-15T10:53:08.059Z caller=main.go:1060 level=info fs_type=EXT4_SUPER_MAGIC\n",
      "ts=2024-02-15T10:53:08.059Z caller=main.go:1063 level=info msg=\"TSDB started\"\n",
      "ts=2024-02-15T10:53:08.059Z caller=main.go:1245 level=info msg=\"Loading configuration file\" filename=prometheus.yml\n",
      "ts=2024-02-15T10:53:08.060Z caller=main.go:1282 level=info msg=\"Completed loading of configuration file\" filename=prometheus.yml totalDuration=610.043µs db_storage=1.507µs remote_storage=2.461µs web_handler=419ns query_engine=1.199µs scrape=298.109µs scrape_sd=33.71µs notify=1.239µs notify_sd=2.654µs rules=1.292µs tracing=7.615µs\n",
      "ts=2024-02-15T10:53:08.060Z caller=main.go:1024 level=info msg=\"Server is ready to receive web requests.\"\n",
      "ts=2024-02-15T10:53:08.060Z caller=manager.go:146 level=info component=\"rule manager\" msg=\"Starting rule manager...\"\n"
     ]
    },
    {
     "name": "stdout",
     "output_type": "stream",
     "text": [
      "Process is interrupted.\n"
     ]
    }
   ],
   "source": [
    "%%bash -s {WORKDIR}\n",
    "(\n",
    "    WORKDIR=$1\n",
    "    PROM_VERSION=$2\n",
    "    cd $WORKDIR/prometheus-*/\n",
    "    killall prometheus\n",
    "    ./prometheus &\n",
    "    \n",
    ")"
   ]
  },
  {
   "cell_type": "markdown",
   "metadata": {},
   "source": [
    "Download the prepare the demo service "
   ]
  },
  {
   "cell_type": "code",
   "execution_count": 27,
   "metadata": {},
   "outputs": [
    {
     "name": "stdout",
     "output_type": "stream",
     "text": [
      "Downloading the demo service version 0.11.1\n"
     ]
    },
    {
     "name": "stdout",
     "output_type": "stream",
     "text": [
      "Starting the demo service instances\n"
     ]
    },
    {
     "name": "stderr",
     "output_type": "stream",
     "text": [
      "./prometheus_demo_service: no process found\n"
     ]
    },
    {
     "name": "stdout",
     "output_type": "stream",
     "text": [
      "Demo instances are running\n",
      "Process is interrupted.\n"
     ]
    }
   ],
   "source": [
    "%%bash -s {WORKDIR} {DEMO_VERSION}\n",
    "(\n",
    "    WORKDIR=$1\n",
    "    DEMO_VERSION=${2:-0.11.1}\n",
    "    cd $WORKDIR\n",
    "    echo \"Downloading the demo service version ${DEMO_VERSION}\"\n",
    "    wget -q https://github.com/juliusv/prometheus_demo_service/releases/download/${DEMO_VERSION}/prometheus_demo_service-${DEMO_VERSION}.linux-amd64\n",
    "    \n",
    "    chmod +x ./prometheus_demo_service-${DEMO_VERSION}.linux-amd64\n",
    "    mv ./prometheus_demo_service-${DEMO_VERSION}.linux-amd64 ./prometheus_demo_service\n",
    "    \n",
    "    echo \"Starting the demo service instances\"\n",
    "    \n",
    "    killall ./prometheus_demo_service\n",
    "    \n",
    "    ./prometheus_demo_service -listen-address=\":10001\" & > /dev/null\n",
    "    ./prometheus_demo_service -listen-address=\":10002\" & > /dev/null\n",
    "    ./prometheus_demo_service -listen-address=\":10003\" & > /dev/null\n",
    "    \n",
    "    echo \"Demo instances are running\"\n",
    "    \n",
    ")"
   ]
  },
  {
   "cell_type": "code",
   "execution_count": null,
   "metadata": {},
   "outputs": [],
   "source": [
    "%%bash -s {WORKDIR}\n",
    "(\n",
    "    WORKDIR=$1\n",
    "    cat > ${WORKDIR}/prometheus-*/prometheus.yml <<-EOD \n",
    "global:\n",
    "    scrape_interval: 5s\n",
    "    evaluation_interval: 5s\n",
    "scrape_configs:\n",
    "    - job_name: 'prometheus'\n",
    "      static_configs:\n",
    "        - targets: ['localhost:9090']\n",
    "    - job_name: 'demo-service'\n",
    "      static_configs:\n",
    "        - targets:\n",
    "            - localhost:10001\n",
    "            - localhost:10002\n",
    "            - localhost:10003\n",
    "EOD\n",
    "    \n",
    "    # Send signal to reaload\n",
    "    killall -HUP prometheus\n",
    ")\n",
    "\n"
   ]
  },
  {
   "cell_type": "markdown",
   "metadata": {},
   "source": [
    "## Installing node exporter"
   ]
  },
  {
   "cell_type": "code",
   "execution_count": 28,
   "metadata": {},
   "outputs": [
    {
     "name": "stdout",
     "output_type": "stream",
     "text": [
      "Download and start the exporter\n"
     ]
    },
    {
     "name": "stderr",
     "output_type": "stream",
     "text": [
      "node_exporter: no process found\n",
      "ts=2024-02-15T10:56:02.186Z caller=node_exporter.go:192 level=info msg=\"Starting node_exporter\" version=\"(version=1.7.0, branch=HEAD, revision=7333465abf9efba81876303bb57e6fadb946041b)\"\n",
      "ts=2024-02-15T10:56:02.187Z caller=node_exporter.go:193 level=info msg=\"Build context\" build_context=\"(go=go1.21.4, platform=linux/amd64, user=root@35918982f6d8, date=20231112-23:53:35, tags=netgo osusergo static_build)\"\n",
      "ts=2024-02-15T10:56:02.190Z caller=filesystem_common.go:111 level=info collector=filesystem msg=\"Parsed flag --collector.filesystem.mount-points-exclude\" flag=^/(dev|proc|run/credentials/.+|sys|var/lib/docker/.+|var/lib/containers/storage/.+)($|/)\n",
      "ts=2024-02-15T10:56:02.190Z caller=filesystem_common.go:113 level=info collector=filesystem msg=\"Parsed flag --collector.filesystem.fs-types-exclude\" flag=^(autofs|binfmt_misc|bpf|cgroup2?|configfs|debugfs|devpts|devtmpfs|fusectl|hugetlbfs|iso9660|mqueue|nsfs|overlay|proc|procfs|pstore|rpc_pipefs|securityfs|selinuxfs|squashfs|sysfs|tracefs)$\n",
      "ts=2024-02-15T10:56:02.190Z caller=diskstats_common.go:111 level=info collector=diskstats msg=\"Parsed flag --collector.diskstats.device-exclude\" flag=^(ram|loop|fd|(h|s|v|xv)d[a-z]|nvme\\d+n\\d+p)\\d+$\n",
      "ts=2024-02-15T10:56:02.192Z caller=node_exporter.go:110 level=info msg=\"Enabled collectors\"\n",
      "ts=2024-02-15T10:56:02.192Z caller=node_exporter.go:117 level=info collector=arp\n",
      "ts=2024-02-15T10:56:02.192Z caller=node_exporter.go:117 level=info collector=bcache\n",
      "ts=2024-02-15T10:56:02.192Z caller=node_exporter.go:117 level=info collector=bonding\n",
      "ts=2024-02-15T10:56:02.192Z caller=node_exporter.go:117 level=info collector=btrfs\n",
      "ts=2024-02-15T10:56:02.192Z caller=node_exporter.go:117 level=info collector=conntrack\n",
      "ts=2024-02-15T10:56:02.192Z caller=node_exporter.go:117 level=info collector=cpu\n",
      "ts=2024-02-15T10:56:02.192Z caller=node_exporter.go:117 level=info collector=cpufreq\n",
      "ts=2024-02-15T10:56:02.192Z caller=node_exporter.go:117 level=info collector=diskstats\n",
      "ts=2024-02-15T10:56:02.192Z caller=node_exporter.go:117 level=info collector=dmi\n",
      "ts=2024-02-15T10:56:02.192Z caller=node_exporter.go:117 level=info collector=edac\n",
      "ts=2024-02-15T10:56:02.192Z caller=node_exporter.go:117 level=info collector=entropy\n",
      "ts=2024-02-15T10:56:02.192Z caller=node_exporter.go:117 level=info collector=fibrechannel\n",
      "ts=2024-02-15T10:56:02.192Z caller=node_exporter.go:117 level=info collector=filefd\n",
      "ts=2024-02-15T10:56:02.192Z caller=node_exporter.go:117 level=info collector=filesystem\n",
      "ts=2024-02-15T10:56:02.192Z caller=node_exporter.go:117 level=info collector=hwmon\n",
      "ts=2024-02-15T10:56:02.192Z caller=node_exporter.go:117 level=info collector=infiniband\n",
      "ts=2024-02-15T10:56:02.192Z caller=node_exporter.go:117 level=info collector=ipvs\n",
      "ts=2024-02-15T10:56:02.192Z caller=node_exporter.go:117 level=info collector=loadavg\n",
      "ts=2024-02-15T10:56:02.192Z caller=node_exporter.go:117 level=info collector=mdadm\n",
      "ts=2024-02-15T10:56:02.192Z caller=node_exporter.go:117 level=info collector=meminfo\n",
      "ts=2024-02-15T10:56:02.192Z caller=node_exporter.go:117 level=info collector=netclass\n",
      "ts=2024-02-15T10:56:02.192Z caller=node_exporter.go:117 level=info collector=netdev\n",
      "ts=2024-02-15T10:56:02.192Z caller=node_exporter.go:117 level=info collector=netstat\n",
      "ts=2024-02-15T10:56:02.192Z caller=node_exporter.go:117 level=info collector=nfs\n",
      "ts=2024-02-15T10:56:02.192Z caller=node_exporter.go:117 level=info collector=nfsd\n",
      "ts=2024-02-15T10:56:02.192Z caller=node_exporter.go:117 level=info collector=nvme\n",
      "ts=2024-02-15T10:56:02.192Z caller=node_exporter.go:117 level=info collector=os\n",
      "ts=2024-02-15T10:56:02.192Z caller=node_exporter.go:117 level=info collector=powersupplyclass\n",
      "ts=2024-02-15T10:56:02.192Z caller=node_exporter.go:117 level=info collector=pressure\n",
      "ts=2024-02-15T10:56:02.192Z caller=node_exporter.go:117 level=info collector=rapl\n",
      "ts=2024-02-15T10:56:02.192Z caller=node_exporter.go:117 level=info collector=schedstat\n",
      "ts=2024-02-15T10:56:02.192Z caller=node_exporter.go:117 level=info collector=selinux\n",
      "ts=2024-02-15T10:56:02.192Z caller=node_exporter.go:117 level=info collector=sockstat\n",
      "ts=2024-02-15T10:56:02.192Z caller=node_exporter.go:117 level=info collector=softnet\n",
      "ts=2024-02-15T10:56:02.192Z caller=node_exporter.go:117 level=info collector=stat\n",
      "ts=2024-02-15T10:56:02.192Z caller=node_exporter.go:117 level=info collector=tapestats\n",
      "ts=2024-02-15T10:56:02.192Z caller=node_exporter.go:117 level=info collector=textfile\n",
      "ts=2024-02-15T10:56:02.192Z caller=node_exporter.go:117 level=info collector=thermal_zone\n",
      "ts=2024-02-15T10:56:02.192Z caller=node_exporter.go:117 level=info collector=time\n",
      "ts=2024-02-15T10:56:02.192Z caller=node_exporter.go:117 level=info collector=timex\n",
      "ts=2024-02-15T10:56:02.192Z caller=node_exporter.go:117 level=info collector=udp_queues\n",
      "ts=2024-02-15T10:56:02.192Z caller=node_exporter.go:117 level=info collector=uname\n",
      "ts=2024-02-15T10:56:02.192Z caller=node_exporter.go:117 level=info collector=vmstat\n",
      "ts=2024-02-15T10:56:02.192Z caller=node_exporter.go:117 level=info collector=xfs\n",
      "ts=2024-02-15T10:56:02.192Z caller=node_exporter.go:117 level=info collector=zfs\n",
      "ts=2024-02-15T10:56:02.195Z caller=tls_config.go:274 level=info msg=\"Listening on\" address=[::]:9100\n",
      "ts=2024-02-15T10:56:02.195Z caller=tls_config.go:277 level=info msg=\"TLS is disabled.\" http2=false address=[::]:9100\n"
     ]
    },
    {
     "name": "stdout",
     "output_type": "stream",
     "text": [
      "Process is interrupted.\n"
     ]
    }
   ],
   "source": [
    "%%bash -s {WORKDIR} {NODEEXP_VERSION}\n",
    "{\n",
    "    cleanup() {\n",
    "        trap - INT TERM\n",
    "        echo \"Cleaning up the node_exporter\"\n",
    "        killall node_exporter\n",
    "        exit 1\n",
    "    }\n",
    "    \n",
    "    trap cleanup INT TERM\n",
    "    \n",
    "    WORKDIR=$1\n",
    "    NODEEXP_VERSION=${2:-1.7.0}\n",
    "    startNodeExporter() {\n",
    "        cd $WORKDIR\n",
    "        wget -q https://github.com/prometheus/node_exporter/releases/download/v${NODEEXP_VERSION}/node_exporter-${NODEEXP_VERSION}.linux-amd64.tar.gz -O node_exporter.tgz\n",
    "        tar -zxf node_exporter.tgz\n",
    "        chmod +x ./node_exporter*/node_exporter\n",
    "        killall node_exporter\n",
    "        ./node_exporter*/node_exporter & > /dev/null\n",
    "    }\n",
    "    echo \"Download and start the exporter\"\n",
    "    startNodeExporter\n",
    "}"
   ]
  },
  {
   "cell_type": "markdown",
   "metadata": {},
   "source": [
    "Update the scrape targets to include the node_exporter service running on 9100"
   ]
  },
  {
   "cell_type": "code",
   "execution_count": 29,
   "metadata": {},
   "outputs": [
    {
     "name": "stderr",
     "output_type": "stream",
     "text": [
      "ts=2024-02-15T10:56:28.495Z caller=main.go:1245 level=info msg=\"Loading configuration file\" filename=prometheus.yml\n",
      "ts=2024-02-15T10:56:28.501Z caller=main.go:1282 level=info msg=\"Completed loading of configuration file\" filename=prometheus.yml totalDuration=6.06281ms db_storage=4.213µs remote_storage=4.808µs web_handler=1.679µs query_engine=2.335µs scrape=279.895µs scrape_sd=120.948µs notify=6.819µs notify_sd=2.634µs rules=2.665µs tracing=9.039µs\n"
     ]
    }
   ],
   "source": [
    "%%bash -s {WORKDIR}\n",
    "(\n",
    "    WORKDIR=$1\n",
    "    cat > ${WORKDIR}/prometheus-*/prometheus.yml <<-EOD \n",
    "global:\n",
    "    scrape_interval: 5s\n",
    "    evaluation_interval: 5s\n",
    "scrape_configs:\n",
    "    - job_name: 'prometheus'\n",
    "      static_configs:\n",
    "        - targets: ['localhost:9090']\n",
    "    - job_name: 'demo-service'\n",
    "      static_configs:\n",
    "        - targets:\n",
    "            - localhost:10001\n",
    "            - localhost:10002\n",
    "            - localhost:10003\n",
    "    - job_name: 'node_exporter'\n",
    "      static_configs:\n",
    "        - targets:\n",
    "            - localhost:9100\n",
    "EOD\n",
    "    \n",
    "    # Send signal to reaload\n",
    "    killall -HUP prometheus\n",
    ")\n"
   ]
  },
  {
   "cell_type": "markdown",
   "metadata": {},
   "source": [
    "Install/Run cAdvisor"
   ]
  },
  {
   "cell_type": "code",
   "execution_count": 31,
   "metadata": {},
   "outputs": [
    {
     "name": "stdout",
     "output_type": "stream",
     "text": [
      "cadvisor\n"
     ]
    },
    {
     "name": "stdout",
     "output_type": "stream",
     "text": [
      "0685fba780d42d6af7850eae5bcbd75248ae9a35f1a872330893df532c432c44\n"
     ]
    }
   ],
   "source": [
    "%%bash -s {WORKDIR} {CADVISOR_VERSION}\n",
    "{\n",
    "    WORKDIR=$1\n",
    "    CADVISOR_VERSION=${2:-\"0.36.0\"}\n",
    "    \n",
    "    cleanup() {\n",
    "        trap - INT TERM\n",
    "        echo \"Stopping cAdvisor\"\n",
    "        docker rm -f cadvisor\n",
    "        exit 1\n",
    "    }\n",
    "    \n",
    "    startCadvisor() {\n",
    "        docker rm -f cadvisor\n",
    "        docker run \\\n",
    "        --volume=/:/rootfs:ro \\\n",
    "        --volume=/var/run:/var/run:ro \\\n",
    "        --volume=/sys:/sys:ro \\\n",
    "        --volume=/var/lib/docker/:/var/lib/docker:ro \\\n",
    "        --volume=/dev/disk/:/dev/disk:ro \\\n",
    "        --publish=8080:8080 \\\n",
    "        --detach=true \\\n",
    "        --name=cadvisor \\\n",
    "        --privileged \\\n",
    "        --device=/dev/kmsg \\\n",
    "        gcr.io/cadvisor/cadvisor:v${CADVISOR_VERSION}\n",
    "    }\n",
    "    \n",
    "    trap cleanup INT TERM\n",
    "    startCadvisor\n",
    "}"
   ]
  },
  {
   "cell_type": "code",
   "execution_count": 32,
   "metadata": {},
   "outputs": [
    {
     "name": "stderr",
     "output_type": "stream",
     "text": [
      "ts=2024-02-15T10:57:02.796Z caller=main.go:1245 level=info msg=\"Loading configuration file\" filename=prometheus.yml\n",
      "ts=2024-02-15T10:57:02.797Z caller=main.go:1282 level=info msg=\"Completed loading of configuration file\" filename=prometheus.yml totalDuration=1.074342ms db_storage=4.962µs remote_storage=6.255µs web_handler=2.786µs query_engine=2.21µs scrape=252.165µs scrape_sd=121.864µs notify=2.724µs notify_sd=3.866µs rules=2.903µs tracing=9.547µs\n"
     ]
    }
   ],
   "source": [
    "%%bash -s {WORKDIR}\n",
    "(\n",
    "    WORKDIR=$1\n",
    "    cat > ${WORKDIR}/prometheus-*/prometheus.yml <<-EOD \n",
    "global:\n",
    "    scrape_interval: 5s\n",
    "    evaluation_interval: 5s\n",
    "scrape_configs:\n",
    "    - job_name: 'prometheus'\n",
    "      static_configs:\n",
    "        - targets: ['localhost:9090']\n",
    "    - job_name: 'demo-service'\n",
    "      static_configs:\n",
    "        - targets:\n",
    "            - localhost:10001\n",
    "            - localhost:10002\n",
    "            - localhost:10003\n",
    "    - job_name: 'node_exporter'\n",
    "      static_configs:\n",
    "        - targets:\n",
    "            - localhost:9100\n",
    "    - job_name: 'cadvisor'\n",
    "      static_configs:\n",
    "        - targets:\n",
    "            - localhost:8080\n",
    "EOD\n",
    "    \n",
    "    # Send signal to reaload\n",
    "    killall -HUP prometheus\n",
    ")\n"
   ]
  },
  {
   "cell_type": "markdown",
   "metadata": {},
   "source": [
    "Node Exporter - Custom \n",
    "\n",
    "In this chapter, we create an simple Node Exporter (CPU metrics collection), the program is written in python [cpu-metrics-exporter.py](./cpu-metrics-exporter/cpu-metric-exporter.py)\n",
    "\n",
    "It uses psutil and get the cpu data and use CounterMetricFamily to transform to prometheus format."
   ]
  },
  {
   "cell_type": "code",
   "execution_count": 34,
   "metadata": {},
   "outputs": [
    {
     "name": "stderr",
     "output_type": "stream",
     "text": [
      "cpu-metric-exporter.py: no process found\n"
     ]
    },
    {
     "name": "stderr",
     "output_type": "stream",
     "text": [
      "python: can't open file '/tmp/lfs-prometheus/cpu-metrics-exporter/cpu-metric-exporter.py': [Errno 2] No such file or directory\n"
     ]
    },
    {
     "ename": "CalledProcessError",
     "evalue": "Command 'b'{\\n    WORKDIR=$1\\n    cd $WORKDIR\\n    killall cpu-metric-exporter.py\\n    python cpu-metrics-exporter/cpu-metric-exporter.py\\n}\\n'' returned non-zero exit status 2.",
     "output_type": "error",
     "traceback": [
      "\u001b[0;31m---------------------------------------------------------------------------\u001b[0m",
      "\u001b[0;31mCalledProcessError\u001b[0m                        Traceback (most recent call last)",
      "Cell \u001b[0;32mIn[34], line 1\u001b[0m\n\u001b[0;32m----> 1\u001b[0m \u001b[43mget_ipython\u001b[49m\u001b[43m(\u001b[49m\u001b[43m)\u001b[49m\u001b[38;5;241;43m.\u001b[39;49m\u001b[43mrun_cell_magic\u001b[49m\u001b[43m(\u001b[49m\u001b[38;5;124;43m'\u001b[39;49m\u001b[38;5;124;43mbash\u001b[39;49m\u001b[38;5;124;43m'\u001b[39;49m\u001b[43m,\u001b[49m\u001b[43m \u001b[49m\u001b[38;5;124;43m'\u001b[39;49m\u001b[38;5;124;43m-s \u001b[39;49m\u001b[38;5;132;43;01m{WORKDIR}\u001b[39;49;00m\u001b[38;5;124;43m'\u001b[39;49m\u001b[43m,\u001b[49m\u001b[43m \u001b[49m\u001b[38;5;124;43m'\u001b[39;49m\u001b[38;5;124;43m{\u001b[39;49m\u001b[38;5;130;43;01m\\n\u001b[39;49;00m\u001b[38;5;124;43m    WORKDIR=$1\u001b[39;49m\u001b[38;5;130;43;01m\\n\u001b[39;49;00m\u001b[38;5;124;43m    cd $WORKDIR\u001b[39;49m\u001b[38;5;130;43;01m\\n\u001b[39;49;00m\u001b[38;5;124;43m    killall cpu-metric-exporter.py\u001b[39;49m\u001b[38;5;130;43;01m\\n\u001b[39;49;00m\u001b[38;5;124;43m    python cpu-metrics-exporter/cpu-metric-exporter.py\u001b[39;49m\u001b[38;5;130;43;01m\\n\u001b[39;49;00m\u001b[38;5;124;43m}\u001b[39;49m\u001b[38;5;130;43;01m\\n\u001b[39;49;00m\u001b[38;5;124;43m'\u001b[39;49m\u001b[43m)\u001b[49m\n",
      "File \u001b[0;32m/usr/local/lib/python3.11/site-packages/IPython/core/interactiveshell.py:2478\u001b[0m, in \u001b[0;36mInteractiveShell.run_cell_magic\u001b[0;34m(self, magic_name, line, cell)\u001b[0m\n\u001b[1;32m   2476\u001b[0m \u001b[38;5;28;01mwith\u001b[39;00m \u001b[38;5;28mself\u001b[39m\u001b[38;5;241m.\u001b[39mbuiltin_trap:\n\u001b[1;32m   2477\u001b[0m     args \u001b[38;5;241m=\u001b[39m (magic_arg_s, cell)\n\u001b[0;32m-> 2478\u001b[0m     result \u001b[38;5;241m=\u001b[39m \u001b[43mfn\u001b[49m\u001b[43m(\u001b[49m\u001b[38;5;241;43m*\u001b[39;49m\u001b[43margs\u001b[49m\u001b[43m,\u001b[49m\u001b[43m \u001b[49m\u001b[38;5;241;43m*\u001b[39;49m\u001b[38;5;241;43m*\u001b[39;49m\u001b[43mkwargs\u001b[49m\u001b[43m)\u001b[49m\n\u001b[1;32m   2480\u001b[0m \u001b[38;5;66;03m# The code below prevents the output from being displayed\u001b[39;00m\n\u001b[1;32m   2481\u001b[0m \u001b[38;5;66;03m# when using magics with decodator @output_can_be_silenced\u001b[39;00m\n\u001b[1;32m   2482\u001b[0m \u001b[38;5;66;03m# when the last Python token in the expression is a ';'.\u001b[39;00m\n\u001b[1;32m   2483\u001b[0m \u001b[38;5;28;01mif\u001b[39;00m \u001b[38;5;28mgetattr\u001b[39m(fn, magic\u001b[38;5;241m.\u001b[39mMAGIC_OUTPUT_CAN_BE_SILENCED, \u001b[38;5;28;01mFalse\u001b[39;00m):\n",
      "File \u001b[0;32m/usr/local/lib/python3.11/site-packages/IPython/core/magics/script.py:154\u001b[0m, in \u001b[0;36mScriptMagics._make_script_magic.<locals>.named_script_magic\u001b[0;34m(line, cell)\u001b[0m\n\u001b[1;32m    152\u001b[0m \u001b[38;5;28;01melse\u001b[39;00m:\n\u001b[1;32m    153\u001b[0m     line \u001b[38;5;241m=\u001b[39m script\n\u001b[0;32m--> 154\u001b[0m \u001b[38;5;28;01mreturn\u001b[39;00m \u001b[38;5;28;43mself\u001b[39;49m\u001b[38;5;241;43m.\u001b[39;49m\u001b[43mshebang\u001b[49m\u001b[43m(\u001b[49m\u001b[43mline\u001b[49m\u001b[43m,\u001b[49m\u001b[43m \u001b[49m\u001b[43mcell\u001b[49m\u001b[43m)\u001b[49m\n",
      "File \u001b[0;32m/usr/local/lib/python3.11/site-packages/IPython/core/magics/script.py:314\u001b[0m, in \u001b[0;36mScriptMagics.shebang\u001b[0;34m(self, line, cell)\u001b[0m\n\u001b[1;32m    309\u001b[0m \u001b[38;5;28;01mif\u001b[39;00m args\u001b[38;5;241m.\u001b[39mraise_error \u001b[38;5;129;01mand\u001b[39;00m p\u001b[38;5;241m.\u001b[39mreturncode \u001b[38;5;241m!=\u001b[39m \u001b[38;5;241m0\u001b[39m:\n\u001b[1;32m    310\u001b[0m     \u001b[38;5;66;03m# If we get here and p.returncode is still None, we must have\u001b[39;00m\n\u001b[1;32m    311\u001b[0m     \u001b[38;5;66;03m# killed it but not yet seen its return code. We don't wait for it,\u001b[39;00m\n\u001b[1;32m    312\u001b[0m     \u001b[38;5;66;03m# in case it's stuck in uninterruptible sleep. -9 = SIGKILL\u001b[39;00m\n\u001b[1;32m    313\u001b[0m     rc \u001b[38;5;241m=\u001b[39m p\u001b[38;5;241m.\u001b[39mreturncode \u001b[38;5;129;01mor\u001b[39;00m \u001b[38;5;241m-\u001b[39m\u001b[38;5;241m9\u001b[39m\n\u001b[0;32m--> 314\u001b[0m     \u001b[38;5;28;01mraise\u001b[39;00m CalledProcessError(rc, cell)\n",
      "\u001b[0;31mCalledProcessError\u001b[0m: Command 'b'{\\n    WORKDIR=$1\\n    cd $WORKDIR\\n    killall cpu-metric-exporter.py\\n    python cpu-metrics-exporter/cpu-metric-exporter.py\\n}\\n'' returned non-zero exit status 2."
     ]
    }
   ],
   "source": [
    "%%bash -s {WORKDIR}\n",
    "{\n",
    "    WORKDIR=$1\n",
    "    cd $WORKDIR\n",
    "    killall cpu-metric-exporter.py\n",
    "    python cpu-metrics-exporter/cpu-metric-exporter.py\n",
    "}\n"
   ]
  },
  {
   "cell_type": "code",
   "execution_count": 35,
   "metadata": {},
   "outputs": [
    {
     "name": "stderr",
     "output_type": "stream",
     "text": [
      "ts=2024-02-15T10:57:49.562Z caller=main.go:1245 level=info msg=\"Loading configuration file\" filename=prometheus.yml\n",
      "ts=2024-02-15T10:57:49.563Z caller=main.go:1282 level=info msg=\"Completed loading of configuration file\" filename=prometheus.yml totalDuration=750.152µs db_storage=2.658µs remote_storage=2.961µs web_handler=625ns query_engine=1.305µs scrape=137.695µs scrape_sd=88.88µs notify=1.055µs notify_sd=1.876µs rules=1.676µs tracing=6.259µs\n"
     ]
    }
   ],
   "source": [
    "%%bash -s {WORKDIR}\n",
    "(\n",
    "    WORKDIR=$1\n",
    "    cat > ${WORKDIR}/prometheus-*/prometheus.yml <<-EOD \n",
    "global:\n",
    "    scrape_interval: 5s\n",
    "    evaluation_interval: 5s\n",
    "scrape_configs:\n",
    "    - job_name: 'prometheus'\n",
    "      static_configs:\n",
    "        - targets: ['localhost:9090']\n",
    "    - job_name: 'demo-service'\n",
    "      static_configs:\n",
    "        - targets:\n",
    "            - localhost:10001\n",
    "            - localhost:10002\n",
    "            - localhost:10003\n",
    "    - job_name: 'node_exporter'\n",
    "      static_configs:\n",
    "        - targets:\n",
    "            - localhost:9100\n",
    "    - job_name: 'cadvisor'\n",
    "      static_configs:\n",
    "        - targets:\n",
    "            - localhost:8080\n",
    "    - job_name: 'cpu-metrics'\n",
    "      static_configs:\n",
    "        - targets:\n",
    "            - localhost:8100\n",
    "EOD\n",
    "    # Send signal to reaload\n",
    "    killall -HUP prometheus\n",
    ")"
   ]
  }
 ],
 "metadata": {
  "kernelspec": {
   "display_name": "cc-q7EMUs0i",
   "language": "python",
   "name": "python3"
  },
  "language_info": {
   "codemirror_mode": {
    "name": "ipython",
    "version": 3
   },
   "file_extension": ".py",
   "mimetype": "text/x-python",
   "name": "python",
   "nbconvert_exporter": "python",
   "pygments_lexer": "ipython3",
   "version": "3.11.3"
  }
 },
 "nbformat": 4,
 "nbformat_minor": 2
}
